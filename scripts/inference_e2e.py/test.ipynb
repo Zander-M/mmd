{
 "cells": [
  {
   "cell_type": "code",
   "execution_count": null,
   "metadata": {},
   "outputs": [],
   "source": [
    "start_time_l = [i * test_config.stagger_start_time_dt for i in range(test_config.num_agents)]"
   ]
  },
  {
   "cell_type": "code",
   "execution_count": 2,
   "metadata": {},
   "outputs": [
    {
     "name": "stdout",
     "output_type": "stream",
     "text": [
      "\n",
      "---------------Loading data\n",
      "Precomputing the SDF grid and gradients took: 0.305 sec\n"
     ]
    },
    {
     "name": "stderr",
     "output_type": "stream",
     "text": [
      "/local-scratch/localhome/lya108/lufan/mmd/mmd/datasets/trajectories.py:91: FutureWarning: You are using `torch.load` with `weights_only=False` (the current default value), which uses the default pickle module implicitly. It is possible to construct malicious pickle data which will execute arbitrary code during unpickling (See https://github.com/pytorch/pytorch/blob/main/SECURITY.md#untrusted-models for more details). In a future release, the default value for `weights_only` will be flipped to `True`. This limits the functions that could be executed during unpickling. Arbitrary objects will no longer be allowed to be loaded via this mode unless they are explicitly allowlisted by the user via `torch.serialization.add_safe_globals`. We recommend you start setting `weights_only=True` for any use case where you don't have full control of the loaded file. Please open an issue on GitHub for any issues related to this experimental feature.\n",
      "  trajs_free_tmp = torch.load(\n"
     ]
    },
    {
     "name": "stdout",
     "output_type": "stream",
     "text": [
      "TrajectoryDataset\n",
      "n_trajs: 10000\n",
      "trajectory_dim: (64, 4)\n",
      "\n"
     ]
    }
   ],
   "source": [
    "import os\n",
    "import torch\n",
    "from torch_robotics.torch_utils.seed import fix_random_seed\n",
    "from torch_robotics.torch_utils.torch_utils import get_torch_device\n",
    "from mmd.trainer import get_dataset\n",
    "from mmd.utils.loading import load_params_from_yaml\n",
    "\n",
    "\n",
    "seed = 18 #params.seed\n",
    "fix_random_seed(seed)\n",
    "\n",
    "TRAINED_MODELS_DIR = '../../data_trained_models/'\n",
    "trained_models_dir = TRAINED_MODELS_DIR\n",
    "model_id = 'EnvEmptyNoWait2D-RobotPlanarDisk'\n",
    "model_dir = os.path.join(trained_models_dir, model_id)\n",
    "results_dir = os.path.join(model_dir, 'results_inference', str(seed))\n",
    "os.makedirs(results_dir, exist_ok=True)\n",
    "args = load_params_from_yaml(os.path.join(model_dir, \"args.yaml\"))\n",
    "\n",
    "device='cuda' #params.device\n",
    "device = get_torch_device(device)\n",
    "tensor_args = {'device': device, 'dtype': torch.float32}\n",
    "\n",
    "train_subset, train_dataloader, val_subset, val_dataloader = get_dataset(\n",
    "    dataset_class='TrajectoryDataset',\n",
    "    use_extra_objects=True,\n",
    "    obstacle_cutoff_margin=0.05,\n",
    "    **args,\n",
    "    tensor_args=tensor_args\n",
    ")\n",
    "dataset = train_subset.dataset\n"
   ]
  },
  {
   "cell_type": "code",
   "execution_count": 3,
   "metadata": {},
   "outputs": [
    {
     "data": {
      "text/plain": [
       "['__abstractmethods__',\n",
       " '__add__',\n",
       " '__class__',\n",
       " '__class_getitem__',\n",
       " '__delattr__',\n",
       " '__dict__',\n",
       " '__dir__',\n",
       " '__doc__',\n",
       " '__eq__',\n",
       " '__format__',\n",
       " '__ge__',\n",
       " '__getattribute__',\n",
       " '__getitem__',\n",
       " '__gt__',\n",
       " '__hash__',\n",
       " '__init__',\n",
       " '__init_subclass__',\n",
       " '__le__',\n",
       " '__len__',\n",
       " '__lt__',\n",
       " '__module__',\n",
       " '__ne__',\n",
       " '__new__',\n",
       " '__orig_bases__',\n",
       " '__parameters__',\n",
       " '__reduce__',\n",
       " '__reduce_ex__',\n",
       " '__repr__',\n",
       " '__setattr__',\n",
       " '__sizeof__',\n",
       " '__slots__',\n",
       " '__str__',\n",
       " '__subclasshook__',\n",
       " '__weakref__',\n",
       " '_abc_impl',\n",
       " '_is_protocol',\n",
       " 'args',\n",
       " 'base_dir',\n",
       " 'dataset_shape',\n",
       " 'dataset_subdir',\n",
       " 'env',\n",
       " 'field_key_task',\n",
       " 'field_key_traj',\n",
       " 'fields',\n",
       " 'get_hard_conditions',\n",
       " 'get_single_pt_hard_conditions',\n",
       " 'get_unnormalized',\n",
       " 'include_velocity',\n",
       " 'load_trajectories',\n",
       " 'map_task_id_to_trajectories_id',\n",
       " 'map_trajectory_id_to_task_id',\n",
       " 'metadata',\n",
       " 'n_support_points',\n",
       " 'n_trajs',\n",
       " 'normalize',\n",
       " 'normalize_all_data',\n",
       " 'normalize_tasks',\n",
       " 'normalize_trajectories',\n",
       " 'normalizer',\n",
       " 'normalizer_keys',\n",
       " 'planner_visualizer',\n",
       " 'render',\n",
       " 'robot',\n",
       " 'state_dim',\n",
       " 'task',\n",
       " 'tensor_args',\n",
       " 'threshold_start_goal_pos',\n",
       " 'trajectory_dim',\n",
       " 'unnormalize',\n",
       " 'unnormalize_tasks',\n",
       " 'unnormalize_trajectories']"
      ]
     },
     "execution_count": 3,
     "metadata": {},
     "output_type": "execute_result"
    }
   ],
   "source": [
    "dir(dataset)"
   ]
  },
  {
   "cell_type": "code",
   "execution_count": 26,
   "metadata": {},
   "outputs": [],
   "source": [
    "a, b, c = torch.randn((2,3,4,5)), torch.randn((2,3,4,5)), torch.randn((2,3,4,5))"
   ]
  },
  {
   "cell_type": "code",
   "execution_count": 27,
   "metadata": {},
   "outputs": [],
   "source": [
    "x = [a]"
   ]
  },
  {
   "cell_type": "code",
   "execution_count": 29,
   "metadata": {},
   "outputs": [],
   "source": [
    "x.append(b)\n",
    "x.append(c)"
   ]
  },
  {
   "cell_type": "code",
   "execution_count": 30,
   "metadata": {},
   "outputs": [],
   "source": [
    "y = torch.stack(x, dim=0)"
   ]
  },
  {
   "cell_type": "code",
   "execution_count": 31,
   "metadata": {},
   "outputs": [
    {
     "data": {
      "text/plain": [
       "torch.Size([4, 2, 3, 4, 5])"
      ]
     },
     "execution_count": 31,
     "metadata": {},
     "output_type": "execute_result"
    }
   ],
   "source": [
    "y.shape"
   ]
  }
 ],
 "metadata": {
  "kernelspec": {
   "display_name": "mmd",
   "language": "python",
   "name": "python3"
  },
  "language_info": {
   "codemirror_mode": {
    "name": "ipython",
    "version": 3
   },
   "file_extension": ".py",
   "mimetype": "text/x-python",
   "name": "python",
   "nbconvert_exporter": "python",
   "pygments_lexer": "ipython3",
   "version": "3.8.20"
  }
 },
 "nbformat": 4,
 "nbformat_minor": 2
}
